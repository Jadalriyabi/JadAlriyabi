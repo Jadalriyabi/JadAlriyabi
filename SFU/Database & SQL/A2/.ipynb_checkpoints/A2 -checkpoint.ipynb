{
 "cells": [
  {
   "cell_type": "markdown",
   "metadata": {},
   "source": [
    "# Assignment 2. SQL Advanced"
   ]
  },
  {
   "cell_type": "markdown",
   "metadata": {},
   "source": [
    "## Objectives"
   ]
  },
  {
   "cell_type": "markdown",
   "metadata": {},
   "source": [
    "In this assignment, you will be trained to write more complex SQL queries to query a database. \n",
    " - How to use `Order By` to sort data\n",
    " - How to use `Set Operators` to union/intersect multiple tables\n",
    " - How to use `Join Opeartor` to join multiple tables\n",
    " - How to use `Aggregations` and `Group By` to aggregate data\n",
    " - How to write `subqueries` in SQL "
   ]
  },
  {
   "cell_type": "markdown",
   "metadata": {},
   "source": [
    "## Background"
   ]
  },
  {
   "cell_type": "markdown",
   "metadata": {},
   "source": [
    "Suppose you work at a bank as a data analyst. Your main job is to analyze the data stored in their database. Please download the database at this [link](bank.db). \n",
    "\n",
    "<sup></sup>\n",
    "\n",
    "The database has five tables. The following shows their schemas. Primary key attributes are underlined and foreign keys are noted in superscript.\n",
    " - Customer = {<span style=\"text-decoration:underline\">customerID</span>, firstName, lastName, income, birthDate}\n",
    " - Account = {<span style=\"text-decoration:underline\">accNumber</span>, type, balance, branchNumber<sup>FK-Branch</sup>}\n",
    " - Owns = {<span style=\"text-decoration:underline\">customerID</span><sup>FK-Customer</sup>, <span style=\"text-decoration:underline\">accNumber</span><sup>FK-Account</sup>}\n",
    " - Transactions = {<span style=\"text-decoration:underline\">transNumber</span>, <span style=\"text-decoration:underline\">accNumber</span><sup>FK-Account</sup>, amount}\n",
    " - Employee = {<span style=\"text-decoration:underline\">sin</span>, firstName, lastName, salary, branchNumber<sup>FK-Branch</sup>}\n",
    " - Branch = {<span style=\"text-decoration:underline\">branchNumber</span>, branchName, managerSIN<sup>FK-Employee</sup>, budget}"
   ]
  },
  {
   "cell_type": "markdown",
   "metadata": {},
   "source": [
    "**Notes**\n",
    " - The *customerID* attribute (*Customer*) is a unique number that represents a customer, it is *not* a customer's SIN\n",
    " - The *accNumber* attribute (*Account*) represents the account number\n",
    " - The *balance* (*Account*) attribute represents the total amount in an account\n",
    " - The *type* (*Account*) attribute represents the type an account: chequing, saving, or business\n",
    " - The *Owns* relation represents a many-to-many relationship (between *Customer* and *Account*)\n",
    " - The *transNumber* attribute (*Transactions*) represents a transaction number, combined with account number it uniquely identify a transaction\n",
    " - The *branchNumber* attribute (*Customer*) uniquely identifies a branch\n",
    " - The *managerSIN* attribute (*Customer*) represents the SIN of the branch manager"
   ]
  },
  {
   "cell_type": "markdown",
   "metadata": {},
   "source": [
    "## Questions （1 point per question)\n",
    "\n",
    "Write SQL queries to return the data specified in questions 1 to 20.\n",
    "\n",
    "**Query Requirement**\n",
    " - The answer to each question should be a single SQL query\n",
    " - You must order each query as described in the question, order is always ascending unless specified otherwise\n",
    " - Every column in the result should be named, so if the query asks you to return something like income minus salary make sure that you include an AS statement to name the column\n",
    " - While your queries will not be assessed on their efficiency, marks may be deducted if unnecessary tables are included in the query (for example including Owns and Customer when you only require the customerID of customers who own accounts)\n",
    "\n",
    " "
   ]
  },
  {
   "cell_type": "markdown",
   "metadata": {},
   "source": [
    "**Execute the next two cells**"
   ]
  },
  {
   "cell_type": "code",
   "execution_count": 1,
   "metadata": {},
   "outputs": [],
   "source": [
    "%load_ext sql"
   ]
  },
  {
   "cell_type": "code",
   "execution_count": 2,
   "metadata": {
    "scrolled": true
   },
   "outputs": [
    {
     "data": {
      "text/plain": [
       "'Connected: @bank.db'"
      ]
     },
     "execution_count": 2,
     "metadata": {},
     "output_type": "execute_result"
    }
   ],
   "source": [
    "%sql sqlite:///bank.db"
   ]
  },
  {
   "cell_type": "markdown",
   "metadata": {},
   "source": [
    "**Queries**"
   ]
  },
  {
   "cell_type": "markdown",
   "metadata": {},
   "source": [
    "** 1.** *First name, last name, income* of customers whose income is within [60,000, 70,000], order by *income* (desc), *lastName*, *firstName*."
   ]
  },
  {
   "cell_type": "code",
   "execution_count": 3,
   "metadata": {},
   "outputs": [
    {
     "name": "stdout",
     "output_type": "stream",
     "text": [
      " * sqlite:///bank.db\n",
      "Done.\n"
     ]
    },
    {
     "data": {
      "text/html": [
       "<table>\n",
       "    <thead>\n",
       "        <tr>\n",
       "            <th>firstName</th>\n",
       "            <th>lastName</th>\n",
       "            <th>income</th>\n",
       "        </tr>\n",
       "    </thead>\n",
       "    <tbody>\n",
       "        <tr>\n",
       "            <td>Henry</td>\n",
       "            <td>Ward</td>\n",
       "            <td>60404</td>\n",
       "        </tr>\n",
       "        <tr>\n",
       "            <td>Cheryl</td>\n",
       "            <td>Parker</td>\n",
       "            <td>60586</td>\n",
       "        </tr>\n",
       "        <tr>\n",
       "            <td>Harold</td>\n",
       "            <td>Young</td>\n",
       "            <td>60731</td>\n",
       "        </tr>\n",
       "        <tr>\n",
       "            <td>Andrew</td>\n",
       "            <td>Jones</td>\n",
       "            <td>61289</td>\n",
       "        </tr>\n",
       "        <tr>\n",
       "            <td>Willie</td>\n",
       "            <td>Jones</td>\n",
       "            <td>61312</td>\n",
       "        </tr>\n",
       "        <tr>\n",
       "            <td>Martha</td>\n",
       "            <td>Young</td>\n",
       "            <td>63192</td>\n",
       "        </tr>\n",
       "        <tr>\n",
       "            <td>Helen</td>\n",
       "            <td>Sanchez</td>\n",
       "            <td>63333</td>\n",
       "        </tr>\n",
       "        <tr>\n",
       "            <td>Mildred</td>\n",
       "            <td>Reed</td>\n",
       "            <td>64499</td>\n",
       "        </tr>\n",
       "        <tr>\n",
       "            <td>Kimberly</td>\n",
       "            <td>Powell</td>\n",
       "            <td>65555</td>\n",
       "        </tr>\n",
       "        <tr>\n",
       "            <td>Anna</td>\n",
       "            <td>Cooper</td>\n",
       "            <td>67275</td>\n",
       "        </tr>\n",
       "        <tr>\n",
       "            <td>Randy</td>\n",
       "            <td>Mitchell</td>\n",
       "            <td>67895</td>\n",
       "        </tr>\n",
       "        <tr>\n",
       "            <td>Jeffrey</td>\n",
       "            <td>Griffin</td>\n",
       "            <td>68812</td>\n",
       "        </tr>\n",
       "        <tr>\n",
       "            <td>Evelyn</td>\n",
       "            <td>Scott</td>\n",
       "            <td>68832</td>\n",
       "        </tr>\n",
       "        <tr>\n",
       "            <td>Larry</td>\n",
       "            <td>Murphy</td>\n",
       "            <td>69037</td>\n",
       "        </tr>\n",
       "        <tr>\n",
       "            <td>Bonnie</td>\n",
       "            <td>Johnson</td>\n",
       "            <td>69198</td>\n",
       "        </tr>\n",
       "        <tr>\n",
       "            <td>Steven</td>\n",
       "            <td>Johnson</td>\n",
       "            <td>69842</td>\n",
       "        </tr>\n",
       "    </tbody>\n",
       "</table>"
      ],
      "text/plain": [
       "[('Henry', 'Ward', 60404),\n",
       " ('Cheryl', 'Parker', 60586),\n",
       " ('Harold', 'Young', 60731),\n",
       " ('Andrew', 'Jones', 61289),\n",
       " ('Willie', 'Jones', 61312),\n",
       " ('Martha', 'Young', 63192),\n",
       " ('Helen', 'Sanchez', 63333),\n",
       " ('Mildred', 'Reed', 64499),\n",
       " ('Kimberly', 'Powell', 65555),\n",
       " ('Anna', 'Cooper', 67275),\n",
       " ('Randy', 'Mitchell', 67895),\n",
       " ('Jeffrey', 'Griffin', 68812),\n",
       " ('Evelyn', 'Scott', 68832),\n",
       " ('Larry', 'Murphy', 69037),\n",
       " ('Bonnie', 'Johnson', 69198),\n",
       " ('Steven', 'Johnson', 69842)]"
      ]
     },
     "execution_count": 3,
     "metadata": {},
     "output_type": "execute_result"
    }
   ],
   "source": [
    "%%sql\n",
    "SELECT firstName, lastName, income FROM Customer\n",
    "WHERE income <= 70000 AND income >= 60000\n",
    "ORDER BY income, lastName, firstName DESC;"
   ]
  },
  {
   "cell_type": "markdown",
   "metadata": {},
   "source": [
    "**2.** *SIN, branch name, salary and manager’s salary - salary* (that is, the salary of the employee’s manager minus salary of the employee) of all employees in New York, London or Berlin, order by ascending (manager salary - salary)."
   ]
  },
  {
   "cell_type": "code",
   "execution_count": null,
   "metadata": {},
   "outputs": [],
   "source": [
    "%%sql \n",
    "SELECT employee.sin, branch.branchName,employee.sin, employee.salary, (manager.salary - employee.salary) AS \"difference\"\n",
    "FROM employee, employee manager, branch\n",
    "WHERE branch.branchNumber = employee.branchNumber \n",
    "AND manager.sin = branch.managerSIN\n",
    "AND branch.branchName IN (\"New York\", \"London\", \"Berlin\")\n",
    "ORDER BY difference ASC;"
   ]
  },
  {
   "cell_type": "markdown",
   "metadata": {},
   "source": [
    "** 3.** *First name, last name, and income* of customers whose income is at least twice the income of any customer whose lastName is Butler, order by last name then first name. \n"
   ]
  },
  {
   "cell_type": "code",
   "execution_count": null,
   "metadata": {},
   "outputs": [],
   "source": [
    "%%sql\n",
    "SELECT firstName, lastName, income \n",
    "FROM customer\n",
    "WHERE income >= (SELECT 2*income\n",
    "                FROM customer\n",
    "                WHERE lastName = \"Butler\")\n",
    "ORDER BY lastName, firstName"
   ]
  },
  {
   "cell_type": "markdown",
   "metadata": {},
   "source": [
    "**4.** *Customer ID, income, account numbers and branch numbers* of customers with income greater than 90,000 who own an account at both London and Latveria branches, order by customer ID then account number. The result should contain all the account numbers of customers who meet the criteria, even if the account itself is not held at London or Latveria."
   ]
  },
  {
   "cell_type": "code",
   "execution_count": null,
   "metadata": {},
   "outputs": [],
   "source": [
    "%%sql\n",
    "SELECT c.customerID, c.income, o.accNumber, branch.branchNumber \n",
    "FROM customer c \n",
    "JOIN owns o ON c.customerID = o.customerID \n",
    "JOIN account a ON o.accNumber = a.accNumber \n",
    "JOIN branch ON a.branchNumber = branch.branchNumber \n",
    "WHERE c.income > 90000 AND branch.branchName IN (\"London\", \"Latveria\")\n",
    "ORDER BY c.customerID, a.accNumber;"
   ]
  },
  {
   "cell_type": "markdown",
   "metadata": {},
   "source": [
    "**5.** *Customer ID, types, account numbers and balances* of business (type *BUS*) and savings (type *SAV*) accounts owned by customers who own at least one business account or at least one savings account, order by customer ID, then type, then account number."
   ]
  },
  {
   "cell_type": "code",
   "execution_count": null,
   "metadata": {},
   "outputs": [],
   "source": [
    "%%sql \n",
    "SELECT c.customerID, a.type, a.accNumber, a.balance\n",
    "FROM customer c JOIN owns o ON c.customerID = o.customerID \n",
    "JOIN account a ON a.accNumber = o.accNumber\n",
    "WHERE a.type = \"BUS\" OR a.type = \"SAV\"\n",
    "ORDER BY c.customerID, a.type, a.accNumber;"
   ]
  },
  {
   "cell_type": "markdown",
   "metadata": {},
   "source": [
    "** 6.** *Branch name, account number and balance* of accounts with balances greater than $110,000 held at the branch managed by Phillip Edwards, order by account number."
   ]
  },
  {
   "cell_type": "code",
   "execution_count": null,
   "metadata": {
    "scrolled": true
   },
   "outputs": [],
   "source": [
    "%%sql\n",
    "SELECT b.branchName, a.accNumber, a.balance\n",
    "FROM account a \n",
    "JOIN branch b ON a.branchNumber = b.branchNumber\n",
    "JOIN employee e ON e.sin = b.managerSIN\n",
    "WHERE a.balance > 110000 AND e.firstName = \"Phillip\" AND e.lastName = \"Edwards\"\n",
    "ORDER BY a.accNumber;"
   ]
  },
  {
   "cell_type": "markdown",
   "metadata": {},
   "source": [
    "**7.** Customer ID of customers who have an account at the *New York* branch, who do not own an account at the London branch and who do not co-own an account with another customer who owns an account at the *London* branch, order by customer ID. The result should not contain duplicate customer IDs."
   ]
  },
  {
   "cell_type": "code",
   "execution_count": null,
   "metadata": {},
   "outputs": [],
   "source": [
    "%%sql \n",
    "SELECT DISTINCT c.customerID\n",
    "FROM customer c \n",
    "JOIN owns o ON c.customerID = o.customerID \n",
    "JOIN account a ON o.accNumber = a.accNumber \n",
    "JOIN branch b ON a.branchNumber = b.branchNumber\n",
    "WHERE b.branchName = \"New York\" AND c.customerID NOT IN (SELECT c.customerID\n",
    "                                                        FROM customer c \n",
    "                                                        JOIN owns o ON c.customerID = o.customerID \n",
    "                                                        JOIN account a ON o.accNumber = a.accNumber \n",
    "                                                        JOIN branch b ON a.branchNumber = b.branchNumber\n",
    "                                                        WHERE b.branchName = \"London\")\n",
    "ORDER BY c.customerID;"
   ]
  },
  {
   "cell_type": "markdown",
   "metadata": {},
   "source": [
    "**8.** *SIN, first name, last name, and salary* of employees who earn more than $70,000, if they are managers show the branch name of their branch in a fifth column (which should be NULL/NONE for most employees), order by branch name. You must use an outer join in your solution (which is the easiest way to do it)."
   ]
  },
  {
   "cell_type": "code",
   "execution_count": null,
   "metadata": {},
   "outputs": [],
   "source": [
    "%%sql\n",
    "SELECT e.sin, e.firstName, e.lastName, e.salary, b.branchName\n",
    "FROM employee e \n",
    "LEFT JOIN branch b ON b.branchNumber = e.branchNumber AND e.sin = b.managerSIN\n",
    "WHERE e.salary > 70000\n",
    "ORDER BY b.branchName;"
   ]
  },
  {
   "cell_type": "markdown",
   "metadata": {},
   "source": [
    "**9.** Exactly as question eight, except that your query cannot include any join operation."
   ]
  },
  {
   "cell_type": "code",
   "execution_count": null,
   "metadata": {},
   "outputs": [],
   "source": [
    "%%sql\n",
    "SELECT e.sin, e.firstName, e.lastName, e.salary, b.branchName\n",
    "FROM employee e, branch b\n",
    "WHERE e.salary > 70000 AND NOT EXISTS (SELECT 1 \n",
    "                                      FROM employee e, branch b\n",
    "                                      WHERE b.branchNumber = e.branchNumber AND e.sin = b.managerSIN)\n",
    "ORDER BY b.branchName;"
   ]
  },
  {
   "cell_type": "markdown",
   "metadata": {},
   "source": [
    "**10.** *Customer ID, first name, last name and income* of customers who have income greater than 5000 and own accounts in all of the branches that *Helen Morgan* owns accounts in, order by income in descreasing order."
   ]
  },
  {
   "cell_type": "code",
   "execution_count": null,
   "metadata": {
    "scrolled": true
   },
   "outputs": [],
   "source": [
    "%%sql\n",
    "SELECT c.customerID, c.firstName, c.lastName, c.income \n",
    "FROM customer c, customer m\n",
    "JOIN owns o ON c.customerID = o.customerID \n",
    "JOIN account a ON o.accNumber = a.accNumber \n",
    "WHERE c.income > 5000 AND m.firstName = \"Helen\" AND m.lastName = \"Morgan\"\n",
    "ORDER BY c.income DESC;"
   ]
  },
  {
   "cell_type": "markdown",
   "metadata": {},
   "source": [
    "**11.**  *SIN, first name, last name and salary* of the lowest paid employee (or employees) of the *London* branch, order by sin."
   ]
  },
  {
   "cell_type": "code",
   "execution_count": null,
   "metadata": {},
   "outputs": [],
   "source": [
    "%%sql\n",
    "SELECT e.sin, e.firstName, e.salary\n",
    "FROM employee e\n",
    "JOIN branch b ON b.branchNumber = e.branchNumber\n",
    "WHERE b.branchName = \"London\"\n",
    "ORDER BY e.sin;"
   ]
  },
  {
   "cell_type": "markdown",
   "metadata": {},
   "source": [
    "**12.**  *Branch name, and the difference of maximum and minimum (salary gap) and average salary* of the employees at each branch, order by branch name."
   ]
  },
  {
   "cell_type": "code",
   "execution_count": null,
   "metadata": {},
   "outputs": [],
   "source": [
    "%%sql\n",
    "SELECT branchName, MAX(Salary)-MIN(Salary) AS \"Salary Gap\", AVG(Salary) AS \"AVG\" \n",
    "FROM employee \n",
    "JOIN branch ON employee.branchNumber = Branch.branchNumber \n",
    "GROUP BY branchName \n",
    "ORDER BY branchName;\n"
   ]
  },
  {
   "cell_type": "markdown",
   "metadata": {},
   "source": [
    "**13.**  *Count* of the number of employees working at the *New York* branch and *Count* of the number of different last names of employees working at the *New York* branch (two numbers in a single row)."
   ]
  },
  {
   "cell_type": "code",
   "execution_count": null,
   "metadata": {},
   "outputs": [],
   "source": [
    "%%sql\n",
    "SELECT COUNT(sin) AS \"# of employees\", COUNT(DISTINCT lastName) AS \"distict last name\"\n",
    "FROM employee \n",
    "JOIN branch ON employee.branchNumber = branch.branchNumber\n",
    "WHERE branch.branchName = \"New York\";"
   ]
  },
  {
   "cell_type": "markdown",
   "metadata": {},
   "source": [
    "**14.** *Sum* of the employee salaries (a single number) at the *New York* branch."
   ]
  },
  {
   "cell_type": "code",
   "execution_count": null,
   "metadata": {},
   "outputs": [],
   "source": [
    "%%sql \n",
    "SELECT SUM(e.salary) AS \"Employee sum\"\n",
    "FROM employee e\n",
    "JOIN branch b ON b.branchNumber = e.branchNumber\n",
    "WHERE b.branchName = \"New York\";"
   ]
  },
  {
   "cell_type": "markdown",
   "metadata": {},
   "source": [
    "**15.**  *Customer ID, first name and last name* of customers who own accounts at a max of four different branches, order by Last Name and first Name."
   ]
  },
  {
   "cell_type": "code",
   "execution_count": null,
   "metadata": {},
   "outputs": [],
   "source": [
    "#REPLACE WITH YOUR CODE"
   ]
  },
  {
   "cell_type": "markdown",
   "metadata": {},
   "source": [
    "**16.**  *Average income* of customers older than 60 and average income of customers younger than 20, the result must have two named columns, with one row, in one result set (hint: look up [SQLite time and date functions](https://www.sqlite.org/lang_datefunc.html))."
   ]
  },
  {
   "cell_type": "code",
   "execution_count": null,
   "metadata": {},
   "outputs": [],
   "source": [
    "#REPLACE WITH YOUR CODE"
   ]
  },
  {
   "cell_type": "markdown",
   "metadata": {},
   "source": [
    "**17.**  *Customer ID, last name, first name, income, and average account balance* of customers who have at least two accounts, and whose last names begin with *S* and contain an *e* (e.g. **S**t**e**ve) **or** whose first names begin with *A* and have the letter *n* just before the last 2 letters (e.g. **An**ne), order by customer ID. Note that to appear in the result customers must have at least 2 accounts and satisfy one (or both) of the name conditions."
   ]
  },
  {
   "cell_type": "code",
   "execution_count": null,
   "metadata": {},
   "outputs": [],
   "source": [
    "#REPLACE WITH YOUR CODE"
   ]
  },
  {
   "cell_type": "markdown",
   "metadata": {},
   "source": [
    "**18.**  *Account number, balance, sum of transaction amounts, and balance - transaction sum* for accounts in the *London* branch that have at least 15 transactions, order by transaction sum."
   ]
  },
  {
   "cell_type": "code",
   "execution_count": null,
   "metadata": {},
   "outputs": [],
   "source": [
    "#REPLACE WITH YOUR CODE"
   ]
  },
  {
   "cell_type": "markdown",
   "metadata": {},
   "source": [
    "**19.**  *Branch name, account type, and average transaction amount* of each account type for each branch for branches that have at least 50 accounts of any type, order by branch name, then account type."
   ]
  },
  {
   "cell_type": "code",
   "execution_count": null,
   "metadata": {},
   "outputs": [],
   "source": [
    "#REPLACE WITH YOUR CODE"
   ]
  },
  {
   "cell_type": "markdown",
   "metadata": {},
   "source": [
    "**20.**  *Branch name, account type, account number, transaction number and amount* of transactions of accounts where the average transaction amount is greater than three times the (overall) average transaction amount of accounts of that type. For example, if the average transaction amount of all business accounts is \\$2,000 then return transactions from business accounts where the average transaction amount for that account is greater than $6,000. Order by branch name, then account type, account number and finally transaction number. Note that all transactions of qualifying accounts should be returned even if they are less than the average amount of the account type."
   ]
  },
  {
   "cell_type": "code",
   "execution_count": null,
   "metadata": {},
   "outputs": [],
   "source": [
    "#REPLACE WITH YOUR CODE"
   ]
  },
  {
   "cell_type": "markdown",
   "metadata": {},
   "source": [
    "## Submission"
   ]
  },
  {
   "cell_type": "markdown",
   "metadata": {},
   "source": [
    "Complete the code in this notebook [A2.ipynb](A2.ipynb). Put `A2.ipynb` and `bank.db` into A2.zip and submit it to the CourSys activity Assignment 2."
   ]
  }
 ],
 "metadata": {
  "kernelspec": {
   "display_name": "Python 3 (ipykernel)",
   "language": "python",
   "name": "python3"
  },
  "language_info": {
   "codemirror_mode": {
    "name": "ipython",
    "version": 3
   },
   "file_extension": ".py",
   "mimetype": "text/x-python",
   "name": "python",
   "nbconvert_exporter": "python",
   "pygments_lexer": "ipython3",
   "version": "3.9.7"
  }
 },
 "nbformat": 4,
 "nbformat_minor": 2
}
